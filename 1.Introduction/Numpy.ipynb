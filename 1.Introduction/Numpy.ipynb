{
  "nbformat": 4,
  "nbformat_minor": 0,
  "metadata": {
    "colab": {
      "provenance": []
    },
    "kernelspec": {
      "name": "python3",
      "display_name": "Python 3"
    }
  },
  "cells": [
    {
      "cell_type": "markdown",
      "metadata": {
        "id": "P-9l2Hscl_yq"
      },
      "source": [
        "# NumPy"
      ]
    },
    {
      "cell_type": "markdown",
      "metadata": {
        "id": "xilK3F1FkZcv"
      },
      "source": [
        "Импортируем библиотеку `numpy`."
      ]
    },
    {
      "cell_type": "code",
      "metadata": {
        "id": "JLoM49Aikb6N"
      },
      "source": [
        "import numpy as np\n",
        "import pandas as pd\n",
        "import matplotlib.pyplot as plt\n",
        "np.random.seed(42)"
      ],
      "execution_count": null,
      "outputs": []
    },
    {
      "cell_type": "markdown",
      "metadata": {
        "id": "XGfN_ScSkdIN"
      },
      "source": [
        "`as np` - это сокращение, благодаря нему вместо `numpy` достаточно писать `np`."
      ]
    },
    {
      "cell_type": "markdown",
      "metadata": {
        "id": "fn0vG4Nnkef9"
      },
      "source": [
        "## Создание массивов и визуализация"
      ]
    },
    {
      "cell_type": "markdown",
      "metadata": {
        "id": "CVdyo2OCkgj0"
      },
      "source": [
        "Создание обычного list (списка) в языке Python"
      ]
    },
    {
      "cell_type": "code",
      "metadata": {
        "id": "oc7-tsHAirzq"
      },
      "source": [
        "arr_python = np.array([\n",
        "  [1, 2],\n",
        "  [3, 4],\n",
        "  [3, 3]\n",
        "])"
      ],
      "execution_count": null,
      "outputs": []
    },
    {
      "cell_type": "code",
      "source": [
        "b = [\n",
        "    [1, 2],\n",
        "    [2, 3]\n",
        "]"
      ],
      "metadata": {
        "id": "KlmaQlLHoLY0"
      },
      "execution_count": null,
      "outputs": []
    },
    {
      "cell_type": "code",
      "source": [],
      "metadata": {
        "id": "CQmxT4_PoSlq"
      },
      "execution_count": null,
      "outputs": []
    },
    {
      "cell_type": "code",
      "metadata": {
        "id": "E46LDClIiwUg",
        "colab": {
          "base_uri": "https://localhost:8080/"
        },
        "outputId": "72774b89-af45-4b26-b2d6-e4a933c1319a"
      },
      "source": [
        "arr_python.shape"
      ],
      "execution_count": null,
      "outputs": [
        {
          "output_type": "execute_result",
          "data": {
            "text/plain": [
              "(3, 2)"
            ]
          },
          "metadata": {},
          "execution_count": 3
        }
      ]
    },
    {
      "cell_type": "code",
      "metadata": {
        "colab": {
          "base_uri": "https://localhost:8080/",
          "height": 164
        },
        "id": "k0WJ_mxt-joi",
        "outputId": "7eaa8c62-da34-45d3-e545-e6638015c0ae"
      },
      "source": [
        "temp + 5"
      ],
      "execution_count": null,
      "outputs": [
        {
          "output_type": "error",
          "ename": "NameError",
          "evalue": "ignored",
          "traceback": [
            "\u001b[0;31m---------------------------------------------------------------------------\u001b[0m",
            "\u001b[0;31mNameError\u001b[0m                                 Traceback (most recent call last)",
            "\u001b[0;32m<ipython-input-4-511268ccf60b>\u001b[0m in \u001b[0;36m<module>\u001b[0;34m()\u001b[0m\n\u001b[0;32m----> 1\u001b[0;31m \u001b[0mtemp\u001b[0m \u001b[0;34m+\u001b[0m \u001b[0;36m5\u001b[0m\u001b[0;34m\u001b[0m\u001b[0;34m\u001b[0m\u001b[0m\n\u001b[0m",
            "\u001b[0;31mNameError\u001b[0m: name 'temp' is not defined"
          ]
        }
      ]
    },
    {
      "cell_type": "code",
      "metadata": {
        "id": "rHYoK9o3kiGe",
        "colab": {
          "base_uri": "https://localhost:8080/"
        },
        "outputId": "c40ab4be-16af-41cc-c9ca-ceffcc72a6c1"
      },
      "source": [
        "a = [1, 2, 3, 2, 2] # перечисляем элементы\n",
        "print(a)\n",
        "print(\"a.count(2): {}\".format(a.count(2)))\n",
        "a.append(9)\n",
        "print(a)"
      ],
      "execution_count": null,
      "outputs": [
        {
          "output_type": "stream",
          "name": "stdout",
          "text": [
            "[1, 2, 3, 2, 2]\n",
            "a.count(2): 3\n",
            "[1, 2, 3, 2, 2, 9]\n"
          ]
        }
      ]
    },
    {
      "cell_type": "code",
      "metadata": {
        "id": "i_8pR-h8kjLC",
        "colab": {
          "base_uri": "https://localhost:8080/"
        },
        "outputId": "a8638f29-16a3-4bed-fb69-4b7374a4cc41"
      },
      "source": [
        "type(a) # проверим, что это list"
      ],
      "execution_count": null,
      "outputs": [
        {
          "output_type": "execute_result",
          "data": {
            "text/plain": [
              "list"
            ]
          },
          "metadata": {},
          "execution_count": 6
        }
      ]
    },
    {
      "cell_type": "markdown",
      "metadata": {
        "id": "6mjLVJMFkkH4"
      },
      "source": [
        "Создание массива NumPy с помощью конструктора numpy.array()"
      ]
    },
    {
      "cell_type": "code",
      "metadata": {
        "id": "gkz30BfMklfu",
        "colab": {
          "base_uri": "https://localhost:8080/"
        },
        "outputId": "f1215466-ea41-4abe-e74f-b2234946d734"
      },
      "source": [
        "b = np.array([1, 2, 3]) # передаём в конструктор list\n",
        "print(b)"
      ],
      "execution_count": null,
      "outputs": [
        {
          "output_type": "stream",
          "name": "stdout",
          "text": [
            "[1 2 3]\n"
          ]
        }
      ]
    },
    {
      "cell_type": "code",
      "metadata": {
        "id": "AEtwbiEWkmea",
        "colab": {
          "base_uri": "https://localhost:8080/"
        },
        "outputId": "0398873c-b0ae-4a77-810f-c8ecba56a02c"
      },
      "source": [
        "type(b) # проверим тип"
      ],
      "execution_count": null,
      "outputs": [
        {
          "output_type": "execute_result",
          "data": {
            "text/plain": [
              "numpy.ndarray"
            ]
          },
          "metadata": {},
          "execution_count": 8
        }
      ]
    },
    {
      "cell_type": "markdown",
      "metadata": {
        "id": "BgFDYznRkne7"
      },
      "source": [
        "С помощью встроенного свойства `shape` можно узнать размерность массива"
      ]
    },
    {
      "cell_type": "code",
      "metadata": {
        "id": "1AN1r355kovO",
        "colab": {
          "base_uri": "https://localhost:8080/"
        },
        "outputId": "f9cfc72a-5f26-4bea-b910-1e589c164129"
      },
      "source": [
        "print(b.shape) # проверим размерность"
      ],
      "execution_count": null,
      "outputs": [
        {
          "output_type": "stream",
          "name": "stdout",
          "text": [
            "(3,)\n"
          ]
        }
      ]
    },
    {
      "cell_type": "markdown",
      "metadata": {
        "id": "D-nuHiSLkqat"
      },
      "source": [
        "Обращение к элементам массива NumPy происходит так же, как и обращение к `list` в Python - квадратные скобки и индекс элемента."
      ]
    },
    {
      "cell_type": "code",
      "metadata": {
        "id": "oK5hRNM9ksQV",
        "colab": {
          "base_uri": "https://localhost:8080/"
        },
        "outputId": "ab6e72e4-9082-4b53-e317-a48bb30ac5dd"
      },
      "source": [
        "print(a[0], a[1], a[2])"
      ],
      "execution_count": null,
      "outputs": [
        {
          "output_type": "stream",
          "name": "stdout",
          "text": [
            "1 2 3\n"
          ]
        }
      ]
    },
    {
      "cell_type": "markdown",
      "metadata": {
        "id": "toyb750hkuBQ"
      },
      "source": [
        "## Двумерные массивы"
      ]
    },
    {
      "cell_type": "markdown",
      "metadata": {
        "id": "LWMJjbVnkvfd"
      },
      "source": [
        "Создадим двумерный `list` в Python"
      ]
    },
    {
      "cell_type": "code",
      "metadata": {
        "id": "XGUZJC3ikw7R",
        "colab": {
          "base_uri": "https://localhost:8080/"
        },
        "outputId": "26aa888b-83f2-4433-b025-ba4920c21d92"
      },
      "source": [
        "a = [[1, 2, 3], [4, 5, 6]] # перечисление элементов\n",
        "print(a)"
      ],
      "execution_count": null,
      "outputs": [
        {
          "output_type": "stream",
          "name": "stdout",
          "text": [
            "[[1, 2, 3], [4, 5, 6]]\n"
          ]
        }
      ]
    },
    {
      "cell_type": "code",
      "metadata": {
        "id": "1c9CJr7ykyKE",
        "colab": {
          "base_uri": "https://localhost:8080/"
        },
        "outputId": "d46af9e7-0757-4ff1-81fe-15a0b41ee564"
      },
      "source": [
        "type(a)"
      ],
      "execution_count": null,
      "outputs": [
        {
          "output_type": "execute_result",
          "data": {
            "text/plain": [
              "list"
            ]
          },
          "metadata": {},
          "execution_count": 13
        }
      ]
    },
    {
      "cell_type": "markdown",
      "metadata": {
        "id": "Cc9fryJ0kzOB"
      },
      "source": [
        "Для создания двумерного массива NumPy используем тот же конструктор - `numpy.array()`, в который передаём двумерный `list`."
      ]
    },
    {
      "cell_type": "code",
      "metadata": {
        "id": "8CgTCRYXk0k7",
        "colab": {
          "base_uri": "https://localhost:8080/"
        },
        "outputId": "9b691277-fd8d-4c52-804c-b2b52cc8fd99"
      },
      "source": [
        "b = np.array([[1, 2, 3], [4, 5, 6]])\n",
        "print(b)"
      ],
      "execution_count": null,
      "outputs": [
        {
          "output_type": "stream",
          "name": "stdout",
          "text": [
            "[[1 2 3]\n",
            " [4 5 6]]\n"
          ]
        }
      ]
    },
    {
      "cell_type": "code",
      "metadata": {
        "id": "mMBWwRuck1vo",
        "colab": {
          "base_uri": "https://localhost:8080/"
        },
        "outputId": "035ceae3-b56c-445f-87c8-148c86788f6e"
      },
      "source": [
        "type(b) # проверяем тип"
      ],
      "execution_count": null,
      "outputs": [
        {
          "output_type": "execute_result",
          "data": {
            "text/plain": [
              "numpy.ndarray"
            ]
          },
          "metadata": {},
          "execution_count": 15
        }
      ]
    },
    {
      "cell_type": "code",
      "metadata": {
        "id": "U6VP3IIuk4TZ",
        "colab": {
          "base_uri": "https://localhost:8080/"
        },
        "outputId": "771a62ef-6558-4da6-e9bb-7f22d3038512"
      },
      "source": [
        "print(b.shape) # проверяем размерность"
      ],
      "execution_count": null,
      "outputs": [
        {
          "output_type": "stream",
          "name": "stdout",
          "text": [
            "(2, 3)\n"
          ]
        }
      ]
    },
    {
      "cell_type": "markdown",
      "metadata": {
        "id": "63H52Wfjk5Ra"
      },
      "source": [
        "Обращаться к элементам в двумерном массиве можно как обычным, \"питоновским\" способом (каждый индекс в отдельных скобках)..."
      ]
    },
    {
      "cell_type": "code",
      "metadata": {
        "id": "jCorDWSxk6oX",
        "colab": {
          "base_uri": "https://localhost:8080/"
        },
        "outputId": "d5cdc561-c4f8-4229-aa9c-1ca49d40e308"
      },
      "source": [
        "b[0][1] # сначала строки, потом столбцы"
      ],
      "execution_count": null,
      "outputs": [
        {
          "output_type": "execute_result",
          "data": {
            "text/plain": [
              "2"
            ]
          },
          "metadata": {},
          "execution_count": 17
        }
      ]
    },
    {
      "cell_type": "markdown",
      "metadata": {
        "id": "xlLfkzkPk8ZF"
      },
      "source": [
        "...так и с помощью одних квадратных скобок (не работает с типом `list`)."
      ]
    },
    {
      "cell_type": "code",
      "metadata": {
        "id": "i5V02Er5k97h",
        "colab": {
          "base_uri": "https://localhost:8080/"
        },
        "outputId": "94f6a9a7-d973-4d57-955c-8b30b5a9b073"
      },
      "source": [
        "b[0, 1] # сначала строки, потом столбцы"
      ],
      "execution_count": null,
      "outputs": [
        {
          "output_type": "execute_result",
          "data": {
            "text/plain": [
              "2"
            ]
          },
          "metadata": {},
          "execution_count": 18
        }
      ]
    },
    {
      "cell_type": "markdown",
      "metadata": {
        "id": "qfg5lgbtk_Ib"
      },
      "source": [
        "Создадим ещё один двумерный массив побольше."
      ]
    },
    {
      "cell_type": "code",
      "metadata": {
        "id": "gVqBlh_IlAgh",
        "colab": {
          "base_uri": "https://localhost:8080/"
        },
        "outputId": "e5bc8ae4-0429-4cfc-c75d-1428e95da588"
      },
      "source": [
        "c = np.array([\n",
        "    [1, 2, 3, 4, 5],\n",
        "    [6, 7, 8, 9, 10],\n",
        "    [11, 12, 13, 14, 15],\n",
        "    [16, 17, 18, 19, 20]])\n",
        "print(c)\n",
        "print(\"c.shape: {}\".format(c.shape))"
      ],
      "execution_count": null,
      "outputs": [
        {
          "output_type": "stream",
          "name": "stdout",
          "text": [
            "[[ 1  2  3  4  5]\n",
            " [ 6  7  8  9 10]\n",
            " [11 12 13 14 15]\n",
            " [16 17 18 19 20]]\n",
            "c.shape: (4, 5)\n"
          ]
        }
      ]
    },
    {
      "cell_type": "markdown",
      "metadata": {
        "id": "lu0w6xfjlB5Q"
      },
      "source": [
        "Чтобы выбрать несколько индексов подряд между двумя значениями, можно использовать формулу `a:b`, где `a` - первое значение, `b` - второе (невключительно).\n",
        "\n",
        "Формула `:a` означает с первого индекса до `a` (невключительно), формула `a:` означает с элемента `a` до последнего индекса (включительно)."
      ]
    },
    {
      "cell_type": "code",
      "metadata": {
        "id": "DPvWCs2NlC7_",
        "colab": {
          "base_uri": "https://localhost:8080/"
        },
        "outputId": "0c9d5da2-0321-4138-c46e-df2aeeed0b13"
      },
      "source": [
        "c[2:4, 2:]"
      ],
      "execution_count": null,
      "outputs": [
        {
          "output_type": "execute_result",
          "data": {
            "text/plain": [
              "array([[13, 14, 15],\n",
              "       [18, 19, 20]])"
            ]
          },
          "metadata": {},
          "execution_count": 22
        }
      ]
    },
    {
      "cell_type": "code",
      "metadata": {
        "id": "9hNOupGGlEUt"
      },
      "source": [
        "## Встроенные функции создания матриц"
      ],
      "execution_count": null,
      "outputs": []
    },
    {
      "cell_type": "markdown",
      "metadata": {
        "id": "WMQhQonglFt5"
      },
      "source": [
        "Для создания матрицы, наполненной нулями, используйте метод `numpy.zeros((x, y))`, передав размер в качестве аргумента."
      ]
    },
    {
      "cell_type": "code",
      "metadata": {
        "id": "7LoxGfyOlGhO",
        "colab": {
          "base_uri": "https://localhost:8080/"
        },
        "outputId": "4138aa13-634d-422c-e9bd-5b7059002da2"
      },
      "source": [
        "arr = np.zeros((5, 5))\n",
        "print(arr)"
      ],
      "execution_count": null,
      "outputs": [
        {
          "output_type": "stream",
          "name": "stdout",
          "text": [
            "[[0. 0. 0. 0. 0.]\n",
            " [0. 0. 0. 0. 0.]\n",
            " [0. 0. 0. 0. 0.]\n",
            " [0. 0. 0. 0. 0.]\n",
            " [0. 0. 0. 0. 0.]]\n"
          ]
        }
      ]
    },
    {
      "cell_type": "markdown",
      "metadata": {
        "id": "JO6P05u6lHZ2"
      },
      "source": [
        "Для создания матрицы, наполненной единицами, используйте метод `numpy.ones((x, y))`, передав размер в качестве аргумента."
      ]
    },
    {
      "cell_type": "code",
      "metadata": {
        "id": "Ms98zHCnlIYR",
        "colab": {
          "base_uri": "https://localhost:8080/"
        },
        "outputId": "816ee152-5bec-4c6b-83f1-daa566b8efc4"
      },
      "source": [
        "arr = np.ones((6, 4))\n",
        "print(arr)"
      ],
      "execution_count": null,
      "outputs": [
        {
          "output_type": "stream",
          "name": "stdout",
          "text": [
            "[[1. 1. 1. 1.]\n",
            " [1. 1. 1. 1.]\n",
            " [1. 1. 1. 1.]\n",
            " [1. 1. 1. 1.]\n",
            " [1. 1. 1. 1.]\n",
            " [1. 1. 1. 1.]]\n"
          ]
        }
      ]
    },
    {
      "cell_type": "markdown",
      "metadata": {
        "id": "w13ugsVIlJfZ"
      },
      "source": [
        "Для создания матрицы, наполненной одним числом, используйте метод `numpy.full((x, y), n)`, передав размер и число в качестве аргумента."
      ]
    },
    {
      "cell_type": "code",
      "metadata": {
        "id": "XF4bgdGklKR-",
        "colab": {
          "base_uri": "https://localhost:8080/"
        },
        "outputId": "09839d50-ee16-4474-a28d-2436167aa6bb"
      },
      "source": [
        "arr = np.full((4, 4), 42)\n",
        "print(arr)"
      ],
      "execution_count": null,
      "outputs": [
        {
          "output_type": "stream",
          "name": "stdout",
          "text": [
            "[[42 42 42 42]\n",
            " [42 42 42 42]\n",
            " [42 42 42 42]\n",
            " [42 42 42 42]]\n"
          ]
        }
      ]
    },
    {
      "cell_type": "markdown",
      "metadata": {
        "id": "Frml_5ytlLa3"
      },
      "source": [
        "Для создания матрицы с единицами по диагонали и нулями в остальных элементах, используйте `numpy.eye(x)`, передав размер в качестве аргумента. Матрица квадратная, поэтому достаточно одного числа."
      ]
    },
    {
      "cell_type": "markdown",
      "metadata": {
        "id": "P5BbqiC2lMRV"
      },
      "source": [
        "Для создания матрицы с единицами по диагонали и нулями в остальных элементах, используйте `numpy.eye(x)`, передав размер в качестве аргумента. Матрица квадратная, поэтому достаточно одного числа."
      ]
    },
    {
      "cell_type": "markdown",
      "metadata": {
        "id": "2U-wCCgtlNUE"
      },
      "source": [
        "Для создания матрицы заданного размера, наполненной случайными числами из отрезка `[0, 1)`, используйте метод `numpy.random.random((x, y))`, передав размер в качестве аргумента."
      ]
    },
    {
      "cell_type": "code",
      "metadata": {
        "id": "GY7-fZIslOM1",
        "colab": {
          "base_uri": "https://localhost:8080/"
        },
        "outputId": "030c1c3f-9cc3-4cd6-9274-9627928b68d0"
      },
      "source": [
        "arr = np.random.random((2, 2))\n",
        "print(arr)"
      ],
      "execution_count": null,
      "outputs": [
        {
          "output_type": "stream",
          "name": "stdout",
          "text": [
            "[[0.37454012 0.95071431]\n",
            " [0.73199394 0.59865848]]\n"
          ]
        }
      ]
    },
    {
      "cell_type": "markdown",
      "metadata": {
        "id": "_CLPT1-jlPBz"
      },
      "source": [
        "Для создания матрицы заданного размера, наполненной случайными числами из стандартного нормального распределения, используйте метод `numpy.random.random((x, y))`, передав размер в качестве аргумента."
      ]
    },
    {
      "cell_type": "code",
      "metadata": {
        "id": "1kAZ5bd_lQHJ",
        "colab": {
          "base_uri": "https://localhost:8080/"
        },
        "outputId": "8635abf3-54d8-4f26-ee60-67204589f1c3"
      },
      "source": [
        "arr = np.random.randn(2, 2)\n",
        "print(arr)"
      ],
      "execution_count": null,
      "outputs": [
        {
          "output_type": "stream",
          "name": "stdout",
          "text": [
            "[[-0.46947439  0.54256004]\n",
            " [-0.46341769 -0.46572975]]\n"
          ]
        }
      ]
    },
    {
      "cell_type": "code",
      "metadata": {
        "id": "N8wePXM9lQ2a"
      },
      "source": [
        "## Операции над матрицами"
      ],
      "execution_count": null,
      "outputs": []
    },
    {
      "cell_type": "markdown",
      "metadata": {
        "id": "4fed7bOXlRoB"
      },
      "source": [
        "Создадим два массива"
      ]
    },
    {
      "cell_type": "code",
      "metadata": {
        "id": "AAA-KiPIlSYP"
      },
      "source": [
        "x = np.array([[1,2],[3,4]], dtype=np.float64)\n",
        "y = np.array([[5,6],[7,8]], dtype=np.float64)"
      ],
      "execution_count": null,
      "outputs": []
    },
    {
      "cell_type": "markdown",
      "metadata": {
        "id": "ROlrVtcNlTQx"
      },
      "source": [
        "Чтобы сложить два массива поэлементно, воспользуйтесь функцией `numpy.add(x, y)` или перегруженным оператором `+`"
      ]
    },
    {
      "cell_type": "markdown",
      "metadata": {
        "id": "nT6XLigWlUL6"
      },
      "source": [
        "Чтобы сложить два массива поэлементно, воспользуйтесь функцией `numpy.add(x, y)` или перегруженным оператором `+`"
      ]
    },
    {
      "cell_type": "code",
      "metadata": {
        "id": "6by0xYCGy-Rq",
        "colab": {
          "base_uri": "https://localhost:8080/"
        },
        "outputId": "83eaff39-e8fa-4118-aead-5c1a0a79aa64"
      },
      "source": [
        "x"
      ],
      "execution_count": null,
      "outputs": [
        {
          "output_type": "execute_result",
          "data": {
            "text/plain": [
              "array([[1., 2.],\n",
              "       [3., 4.]])"
            ]
          },
          "metadata": {},
          "execution_count": 30
        }
      ]
    },
    {
      "cell_type": "code",
      "metadata": {
        "id": "oe3NdxMHzAms",
        "colab": {
          "base_uri": "https://localhost:8080/"
        },
        "outputId": "7f1bef39-bc09-4cd3-c80c-ed988d1f9b88"
      },
      "source": [
        "y"
      ],
      "execution_count": null,
      "outputs": [
        {
          "output_type": "execute_result",
          "data": {
            "text/plain": [
              "array([[5., 6.],\n",
              "       [7., 8.]])"
            ]
          },
          "metadata": {},
          "execution_count": 31
        }
      ]
    },
    {
      "cell_type": "code",
      "metadata": {
        "id": "OJV2vypmlU_f",
        "colab": {
          "base_uri": "https://localhost:8080/"
        },
        "outputId": "3574405f-368b-41c1-9c5c-04eacfc5bb12"
      },
      "source": [
        "print(np.add(x, y))\n",
        "print(x + y)"
      ],
      "execution_count": null,
      "outputs": [
        {
          "output_type": "stream",
          "name": "stdout",
          "text": [
            "[[ 6.  8.]\n",
            " [10. 12.]]\n",
            "[[ 6.  8.]\n",
            " [10. 12.]]\n"
          ]
        }
      ]
    },
    {
      "cell_type": "markdown",
      "metadata": {
        "id": "qDJQZcG5laGl"
      },
      "source": [
        "Чтобы вычесть поэлементно один массив из другого, воспользуйтесь функцией `numpy.subtract(x, y)` или перегруженным оператором `-`"
      ]
    },
    {
      "cell_type": "code",
      "metadata": {
        "id": "uo_0dbLflbHO",
        "colab": {
          "base_uri": "https://localhost:8080/"
        },
        "outputId": "8ca44a34-e455-4049-9b23-00c6d866ee82"
      },
      "source": [
        "print(np.subtract(x, y))\n",
        "print(x - y)"
      ],
      "execution_count": null,
      "outputs": [
        {
          "output_type": "stream",
          "name": "stdout",
          "text": [
            "[[-4. -4.]\n",
            " [-4. -4.]]\n",
            "[[-4. -4.]\n",
            " [-4. -4.]]\n"
          ]
        }
      ]
    },
    {
      "cell_type": "markdown",
      "metadata": {
        "id": "BaO9eZj1lcCf"
      },
      "source": [
        "Чтобы перемножить два массива поэлементно, воспользуйтесь функцией `numpy.multiply(x, y)` или перегруженным оператором `*`"
      ]
    },
    {
      "cell_type": "code",
      "metadata": {
        "id": "mOAGiBVVldHg",
        "colab": {
          "base_uri": "https://localhost:8080/"
        },
        "outputId": "cc6457e6-31da-493d-efc9-074b7ba003b5"
      },
      "source": [
        "print(np.multiply(x, y))\n",
        "print(x * y)"
      ],
      "execution_count": null,
      "outputs": [
        {
          "output_type": "stream",
          "name": "stdout",
          "text": [
            "[[ 5. 12.]\n",
            " [21. 32.]]\n",
            "[[ 5. 12.]\n",
            " [21. 32.]]\n"
          ]
        }
      ]
    },
    {
      "cell_type": "markdown",
      "metadata": {
        "id": "8goE1R8Ylgig"
      },
      "source": [
        "Чтобы разделить поэлементно один массив на другой, воспользуйтесь функцией `numpy.divide(x, y)` или перегруженным оператором `/`"
      ]
    },
    {
      "cell_type": "code",
      "metadata": {
        "id": "ZJggUwNYlh8j",
        "colab": {
          "base_uri": "https://localhost:8080/"
        },
        "outputId": "80b06dc4-dc81-46f4-8c0c-e0e357c70cf2"
      },
      "source": [
        "print(np.divide(x, y))\n",
        "print(x / y)"
      ],
      "execution_count": null,
      "outputs": [
        {
          "output_type": "stream",
          "name": "stdout",
          "text": [
            "[[0.2        0.33333333]\n",
            " [0.42857143 0.5       ]]\n",
            "[[0.2        0.33333333]\n",
            " [0.42857143 0.5       ]]\n"
          ]
        }
      ]
    },
    {
      "cell_type": "markdown",
      "metadata": {
        "id": "eq0zN_M7livz"
      },
      "source": [
        "Чтобы вычислить корень каждого элемента, воспользуйтесь функцией `numpy.sqrt(x)`"
      ]
    },
    {
      "cell_type": "code",
      "metadata": {
        "id": "MFLXBecoljhh"
      },
      "source": [
        "print(x**2)"
      ],
      "execution_count": null,
      "outputs": []
    },
    {
      "cell_type": "markdown",
      "metadata": {
        "id": "SQtDtk6clkWP"
      },
      "source": [
        "## Трансформация матриц"
      ]
    },
    {
      "cell_type": "markdown",
      "metadata": {
        "id": "3mthDOvJllm3"
      },
      "source": [
        "Создадим тестовую матрицу 4x4."
      ]
    },
    {
      "cell_type": "code",
      "metadata": {
        "id": "fRL1t_nelmyQ",
        "colab": {
          "base_uri": "https://localhost:8080/"
        },
        "outputId": "981b6b37-5c40-47c7-96b1-90f02cf3611e"
      },
      "source": [
        "x = np.array([\n",
        "    [1, 2, 3, 4],\n",
        "    [5, 6, 7, 8],\n",
        "    [9, 10, 11, 12],\n",
        "    [13, 14, 15, 16]])\n",
        "print(x)"
      ],
      "execution_count": null,
      "outputs": [
        {
          "output_type": "stream",
          "name": "stdout",
          "text": [
            "[[ 1  2  3  4]\n",
            " [ 5  6  7  8]\n",
            " [ 9 10 11 12]\n",
            " [13 14 15 16]]\n"
          ]
        }
      ]
    },
    {
      "cell_type": "markdown",
      "metadata": {
        "id": "ogAnsSqulnkV"
      },
      "source": [
        "Чтобы транспонировать матрицу X, надо использовать метод `X.T` (сокращение от `X.transpose()`)"
      ]
    },
    {
      "cell_type": "code",
      "metadata": {
        "id": "9px5RhJvlqEx",
        "colab": {
          "base_uri": "https://localhost:8080/",
          "height": 202
        },
        "outputId": "3716c093-973c-42e5-c4d2-1c02a2283517"
      },
      "source": [
        "print(x.T)"
      ],
      "execution_count": null,
      "outputs": [
        {
          "output_type": "error",
          "ename": "AttributeError",
          "evalue": "ignored",
          "traceback": [
            "\u001b[0;31m---------------------------------------------------------------------------\u001b[0m",
            "\u001b[0;31mAttributeError\u001b[0m                            Traceback (most recent call last)",
            "\u001b[0;32m<ipython-input-43-39bccd7a2eaa>\u001b[0m in \u001b[0;36m<module>\u001b[0;34m\u001b[0m\n\u001b[0;32m----> 1\u001b[0;31m \u001b[0mprint\u001b[0m\u001b[0;34m(\u001b[0m\u001b[0mx\u001b[0m\u001b[0;34m.\u001b[0m\u001b[0mT\u001b[0m\u001b[0;34m)\u001b[0m\u001b[0;34m\u001b[0m\u001b[0;34m\u001b[0m\u001b[0m\n\u001b[0m",
            "\u001b[0;31mAttributeError\u001b[0m: 'int' object has no attribute 'T'"
          ]
        }
      ]
    },
    {
      "cell_type": "code",
      "metadata": {
        "id": "5xLX6IIslq8N",
        "colab": {
          "base_uri": "https://localhost:8080/"
        },
        "outputId": "7c764347-c6f6-4793-f980-6fd2a25498b2"
      },
      "source": [
        "x = np.array([\n",
        "    [1, 2, 3, 4],\n",
        "    [5, 6, 7, 8],\n",
        "    [9, 10, 11, 12]])\n",
        "print(x)"
      ],
      "execution_count": null,
      "outputs": [
        {
          "output_type": "stream",
          "name": "stdout",
          "text": [
            "[[ 1  2  3  4]\n",
            " [ 5  6  7  8]\n",
            " [ 9 10 11 12]]\n"
          ]
        }
      ]
    },
    {
      "cell_type": "markdown",
      "metadata": {
        "id": "V8pRz-XplsqJ"
      },
      "source": [
        "Чтобы изменить размерность матрицы X, например, с 3х4 на 2х6, надо использовать метод `X.reshape((2, 6))`."
      ]
    },
    {
      "cell_type": "code",
      "metadata": {
        "id": "OJ1uCsNBltxr",
        "colab": {
          "base_uri": "https://localhost:8080/"
        },
        "outputId": "83d785b0-b353-43ca-d2bc-bd3c27eed0b9"
      },
      "source": [
        "print(x.reshape((-1, 6)))"
      ],
      "execution_count": null,
      "outputs": [
        {
          "output_type": "stream",
          "name": "stdout",
          "text": [
            "[ 1  2  3  4  5  6  7  8  9 10 11 12]\n"
          ]
        }
      ]
    },
    {
      "cell_type": "markdown",
      "metadata": {
        "id": "ZIY7klUlluqK"
      },
      "source": [
        "Вектор в библиотеке NumPy имеет размерность `(3,)`, то есть 3 на ничто."
      ]
    },
    {
      "cell_type": "code",
      "metadata": {
        "id": "hOYFYGSDlviy",
        "colab": {
          "base_uri": "https://localhost:8080/"
        },
        "outputId": "04714520-c059-4e61-e2aa-67ca9b96871c"
      },
      "source": [
        "vector = np.array([1, 2, 3])\n",
        "print(\"vector.shape: {}\".format(vector.shape))"
      ],
      "execution_count": null,
      "outputs": [
        {
          "output_type": "stream",
          "name": "stdout",
          "text": [
            "vector.shape: (3,)\n"
          ]
        }
      ]
    },
    {
      "cell_type": "markdown",
      "metadata": {
        "id": "SZCtDTh0lwXI"
      },
      "source": [
        "Многие библиотеки машинного обучения не понимают такую структуру, им нужен вектор размерностью `(3, 1)`. Функция `X.reshape((X.shape[0], 1))` помогает это сделать."
      ]
    },
    {
      "cell_type": "code",
      "metadata": {
        "id": "P6rIHFOnlxix",
        "colab": {
          "base_uri": "https://localhost:8080/"
        },
        "outputId": "858a8be3-8ca8-4264-b8b9-e89e5abf3146"
      },
      "source": [
        "new_vector = vector.reshape((-1, 1))\n",
        "print(\"new_vector.shape: {}\".format(new_vector.shape))"
      ],
      "execution_count": null,
      "outputs": [
        {
          "output_type": "stream",
          "name": "stdout",
          "text": [
            "new_vector.shape: (3, 1)\n"
          ]
        }
      ]
    },
    {
      "cell_type": "markdown",
      "metadata": {
        "id": "4dvG5KtClzOk"
      },
      "source": [
        "Этот же метод можно использовать, чтобы превратить матрицу в одномерный массив."
      ]
    },
    {
      "cell_type": "code",
      "metadata": {
        "id": "ci8BTnvWl0FE",
        "colab": {
          "base_uri": "https://localhost:8080/"
        },
        "outputId": "e5f31c2d-f5b3-41f6-b498-cdba82bfd4b0"
      },
      "source": [
        "print(x.reshape((1, 12)))"
      ],
      "execution_count": null,
      "outputs": [
        {
          "output_type": "stream",
          "name": "stdout",
          "text": [
            "[[ 1  2  3  4  5  6  7  8  9 10 11 12]]\n"
          ]
        }
      ]
    },
    {
      "cell_type": "markdown",
      "metadata": {
        "id": "xMMm_J1ol0_Q"
      },
      "source": [
        "Однако для такой операции есть своя команда `X.flatten()`."
      ]
    },
    {
      "cell_type": "code",
      "metadata": {
        "id": "rybKwvjtl2Gj",
        "colab": {
          "base_uri": "https://localhost:8080/"
        },
        "outputId": "314d0430-7c75-47df-e8a7-ff61a1287f57"
      },
      "source": [
        "print(x.flatten())"
      ],
      "execution_count": null,
      "outputs": [
        {
          "output_type": "stream",
          "name": "stdout",
          "text": [
            "[ 1  2  3  4  5  6  7  8  9 10 11 12]\n"
          ]
        }
      ]
    },
    {
      "cell_type": "markdown",
      "metadata": {
        "id": "BubTunzil3Ou"
      },
      "source": [
        "## Умножение матриц и операции"
      ]
    },
    {
      "cell_type": "markdown",
      "metadata": {
        "id": "c065DM94l4cf"
      },
      "source": [
        "Создадим матрицы 2x4, 4x3, 3x2 и два вектора 1x2."
      ]
    },
    {
      "cell_type": "code",
      "metadata": {
        "id": "oSlRgG5Jl5YL"
      },
      "source": [
        "x = np.array([\n",
        "    [1, 2, 3, 4],\n",
        "    [5, 6, 7, 8]])\n",
        "y = np.array([\n",
        "    [1, 2, 3],\n",
        "    [4, 5, 6],\n",
        "    [7, 8, 9],\n",
        "    [10, 11, 12]])\n",
        "z = np.array([\n",
        "    [1, 2],\n",
        "    [3, 4],\n",
        "    [5, 6]\n",
        "])\n",
        "\n",
        "v = np.array([9,10])\n",
        "w = np.array([11, 12])"
      ],
      "execution_count": null,
      "outputs": []
    },
    {
      "cell_type": "markdown",
      "metadata": {
        "id": "EOQw3wvhl66-"
      },
      "source": [
        "Чтобы умножить матрицу А на матрицу В, воспользуйтесь функцией `numpy.dot(A, B)` или `A.dot(B)`.\n",
        "\n",
        "При умножении матрицы 2x4 на матрицу 4x3 получится матрица размерностью 2x3."
      ]
    },
    {
      "cell_type": "code",
      "metadata": {
        "id": "WobXre7-l8C9",
        "colab": {
          "base_uri": "https://localhost:8080/"
        },
        "outputId": "b5df2f22-fd60-436c-8e5c-d46df0ef782e"
      },
      "source": [
        "print(x.dot(y))\n",
        "print(np.dot(x, y))\n",
        "print(\"np.dot(x, y).shape: {}\".format(np.dot(x, y).shape))"
      ],
      "execution_count": null,
      "outputs": [
        {
          "output_type": "stream",
          "name": "stdout",
          "text": [
            "[[ 70  80  90]\n",
            " [158 184 210]]\n",
            "[[ 70  80  90]\n",
            " [158 184 210]]\n",
            "np.dot(x, y).shape: (2, 3)\n"
          ]
        }
      ]
    },
    {
      "cell_type": "markdown",
      "metadata": {
        "id": "hzsaETpUl9kD"
      },
      "source": [
        "Стоит заметить, что эта функция автоматически транспонирует векторы. Умножение матриц 3x2 и 1x2 невозможно, но `numpy.dot()` транспонирует вектор и производит умножение матриц 3x2 и 2x1."
      ]
    },
    {
      "cell_type": "code",
      "metadata": {
        "id": "SS_lzCp8l_Cn",
        "colab": {
          "base_uri": "https://localhost:8080/"
        },
        "outputId": "1af91793-c80a-4257-bcac-c3209e82d733"
      },
      "source": [
        "print(z.dot(v))\n",
        "print(np.dot(z, v))"
      ],
      "execution_count": null,
      "outputs": [
        {
          "output_type": "stream",
          "name": "stdout",
          "text": [
            "[ 29  67 105]\n",
            "[ 29  67 105]\n"
          ]
        }
      ]
    },
    {
      "cell_type": "markdown",
      "metadata": {
        "id": "DF-g_15vmAr_"
      },
      "source": [
        "В частном случае это работает для произведения векторов."
      ]
    },
    {
      "cell_type": "code",
      "metadata": {
        "id": "D8yxfsa5mB4N",
        "colab": {
          "base_uri": "https://localhost:8080/"
        },
        "outputId": "b6679d49-85e0-4bff-a9ae-080d4480fcd9"
      },
      "source": [
        "print(v.dot(w))\n",
        "print(np.dot(v, w))"
      ],
      "execution_count": null,
      "outputs": [
        {
          "output_type": "stream",
          "name": "stdout",
          "text": [
            "219\n",
            "219\n"
          ]
        }
      ]
    },
    {
      "cell_type": "markdown",
      "metadata": {
        "id": "Re8u8Lf_mCtS"
      },
      "source": [
        "Создадим для примеров простейшую матрицу 2x2."
      ]
    },
    {
      "cell_type": "code",
      "metadata": {
        "id": "-0XT_Cy4mDkb",
        "colab": {
          "base_uri": "https://localhost:8080/"
        },
        "outputId": "39882112-d840-47cb-c77b-c08019c1a853"
      },
      "source": [
        "x = np.array([[1,2],[3,4]])\n",
        "x"
      ],
      "execution_count": null,
      "outputs": [
        {
          "output_type": "execute_result",
          "data": {
            "text/plain": [
              "array([[1, 2],\n",
              "       [3, 4]])"
            ]
          },
          "metadata": {},
          "execution_count": 59
        }
      ]
    },
    {
      "cell_type": "markdown",
      "metadata": {
        "id": "m-uyNmUFmEca"
      },
      "source": [
        "Чтобы сложить все её элементы, воспользуемся функцией `numpy.sum(x)`."
      ]
    },
    {
      "cell_type": "code",
      "metadata": {
        "id": "mKMeScVJ0AnN",
        "colab": {
          "base_uri": "https://localhost:8080/"
        },
        "outputId": "de201f4a-17f3-42ea-e67c-8ae49acbda90"
      },
      "source": [
        "x"
      ],
      "execution_count": null,
      "outputs": [
        {
          "output_type": "execute_result",
          "data": {
            "text/plain": [
              "array([[1, 2],\n",
              "       [3, 4]])"
            ]
          },
          "metadata": {},
          "execution_count": 60
        }
      ]
    },
    {
      "cell_type": "code",
      "metadata": {
        "id": "c01VKW9VmFrZ",
        "colab": {
          "base_uri": "https://localhost:8080/"
        },
        "outputId": "79b8435a-f703-4707-c7a8-76ae4321d137"
      },
      "source": [
        "print(np.sum(x))"
      ],
      "execution_count": null,
      "outputs": [
        {
          "output_type": "stream",
          "name": "stdout",
          "text": [
            "10\n"
          ]
        }
      ]
    },
    {
      "cell_type": "markdown",
      "metadata": {
        "id": "6nI71vGsmGiN"
      },
      "source": [
        "Чтобы сложить элементы столбцов, добавьте параметр `axis=0`."
      ]
    },
    {
      "cell_type": "code",
      "metadata": {
        "id": "tJjYNCY3mHd0",
        "colab": {
          "base_uri": "https://localhost:8080/"
        },
        "outputId": "2ff3ffc4-983d-4867-a265-4b92ec59ade4"
      },
      "source": [
        "print(np.sum(x, axis=0))"
      ],
      "execution_count": null,
      "outputs": [
        {
          "output_type": "stream",
          "name": "stdout",
          "text": [
            "[4 6]\n"
          ]
        }
      ]
    },
    {
      "cell_type": "markdown",
      "metadata": {
        "id": "lBbnOaMnmIX8"
      },
      "source": [
        "Чтобы сложить элементы строк, добавьте параметр `axis=1`."
      ]
    },
    {
      "cell_type": "code",
      "metadata": {
        "id": "3tasiB-zmJP5",
        "colab": {
          "base_uri": "https://localhost:8080/"
        },
        "outputId": "3d547ad2-0010-45c0-af94-34556596b465"
      },
      "source": [
        "print(np.sum(x, axis=1))"
      ],
      "execution_count": null,
      "outputs": [
        {
          "output_type": "stream",
          "name": "stdout",
          "text": [
            "[3 7]\n"
          ]
        }
      ]
    },
    {
      "cell_type": "markdown",
      "metadata": {
        "id": "h3iZFHYjmKDl"
      },
      "source": [
        "NumPy использует такую логику - если складываем элементы столбцов, значит проходим по строкам, значит идём по первому индексу (0, так как нумерация в программировании начинается с нуля), значит `axis=0`. Если складываем все элементы строки, значит идём по столбцам, по второму индексу, значит `axis=1`."
      ]
    },
    {
      "cell_type": "markdown",
      "metadata": {
        "id": "4wnNx_GTmLHI"
      },
      "source": [
        "## Broadcasting"
      ]
    },
    {
      "cell_type": "markdown",
      "metadata": {
        "id": "VP8XMCfumcmM"
      },
      "source": [
        "Создадим массив троек размером 2x3"
      ]
    },
    {
      "cell_type": "code",
      "metadata": {
        "id": "-bf_mPQYmda8",
        "colab": {
          "base_uri": "https://localhost:8080/"
        },
        "outputId": "70251f8d-9ba2-46c3-98ab-c244d3d02de8"
      },
      "source": [
        "x = np.full((2, 3), 3)\n",
        "print(x)"
      ],
      "execution_count": null,
      "outputs": [
        {
          "output_type": "stream",
          "name": "stdout",
          "text": [
            "[[3 3 3]\n",
            " [3 3 3]]\n"
          ]
        }
      ]
    },
    {
      "cell_type": "markdown",
      "metadata": {
        "id": "ydaAkZtfme5I"
      },
      "source": [
        "При операциях со скалярами происходит операция с каждым элементом."
      ]
    },
    {
      "cell_type": "code",
      "metadata": {
        "id": "U7UCfoaxmf9r",
        "colab": {
          "base_uri": "https://localhost:8080/"
        },
        "outputId": "615cd432-56bf-4856-d613-b51e85f66a3a"
      },
      "source": [
        "print(x + 1)"
      ],
      "execution_count": null,
      "outputs": [
        {
          "output_type": "stream",
          "name": "stdout",
          "text": [
            "[[4 4 4]\n",
            " [4 4 4]]\n"
          ]
        }
      ]
    },
    {
      "cell_type": "code",
      "metadata": {
        "id": "VPIrZiP3mgve",
        "colab": {
          "base_uri": "https://localhost:8080/"
        },
        "outputId": "7828ec18-3897-467a-8925-28f503d9aad1"
      },
      "source": [
        "print(x - 2)"
      ],
      "execution_count": null,
      "outputs": [
        {
          "output_type": "stream",
          "name": "stdout",
          "text": [
            "[[1 1 1]\n",
            " [1 1 1]]\n"
          ]
        }
      ]
    },
    {
      "cell_type": "code",
      "metadata": {
        "id": "VHAD8mygmhsL",
        "colab": {
          "base_uri": "https://localhost:8080/"
        },
        "outputId": "572066f6-dd50-497a-96d0-7075382df5f5"
      },
      "source": [
        "print(x * 2)"
      ],
      "execution_count": null,
      "outputs": [
        {
          "output_type": "stream",
          "name": "stdout",
          "text": [
            "[[6 6 6]\n",
            " [6 6 6]]\n"
          ]
        }
      ]
    },
    {
      "cell_type": "code",
      "metadata": {
        "id": "6BShRQ4QmidU",
        "colab": {
          "base_uri": "https://localhost:8080/"
        },
        "outputId": "1b99d9c9-d993-4012-9198-30f4c1a82459"
      },
      "source": [
        "print(x / 2)"
      ],
      "execution_count": null,
      "outputs": [
        {
          "output_type": "stream",
          "name": "stdout",
          "text": [
            "[[1.5 1.5 1.5]\n",
            " [1.5 1.5 1.5]]\n"
          ]
        }
      ]
    },
    {
      "cell_type": "code",
      "metadata": {
        "id": "qnGMsNR1mjZX",
        "colab": {
          "base_uri": "https://localhost:8080/"
        },
        "outputId": "a5187a6a-df52-4e8c-faf5-d3aa1b12bf1a"
      },
      "source": [
        "print(x ** 2)"
      ],
      "execution_count": null,
      "outputs": [
        {
          "output_type": "stream",
          "name": "stdout",
          "text": [
            "[[9 9 9]\n",
            " [9 9 9]]\n"
          ]
        }
      ]
    },
    {
      "cell_type": "markdown",
      "metadata": {
        "id": "GPOwSq83mkOT"
      },
      "source": [
        "Пример того, как broadcasting может наказать за ошибки."
      ]
    },
    {
      "cell_type": "code",
      "metadata": {
        "id": "Ti1P9bOOmla3",
        "colab": {
          "base_uri": "https://localhost:8080/"
        },
        "outputId": "2a7e4a0e-9a91-477a-be68-0cdfba8ac0a1"
      },
      "source": [
        "y = np.full((1, 4), 4)\n",
        "z = np.full((4, 1), 5)\n",
        "print(y)\n",
        "print(z)"
      ],
      "execution_count": null,
      "outputs": [
        {
          "output_type": "stream",
          "name": "stdout",
          "text": [
            "[[4 4 4 4]]\n",
            "[[5]\n",
            " [5]\n",
            " [5]\n",
            " [5]]\n"
          ]
        }
      ]
    },
    {
      "cell_type": "code",
      "metadata": {
        "id": "sDqppkxgmmPG",
        "colab": {
          "base_uri": "https://localhost:8080/"
        },
        "outputId": "b19f16ba-6801-4f6a-e691-627b695284a8"
      },
      "source": [
        "print(y + z)"
      ],
      "execution_count": null,
      "outputs": [
        {
          "output_type": "stream",
          "name": "stdout",
          "text": [
            "[[9 9 9 9]\n",
            " [9 9 9 9]\n",
            " [9 9 9 9]\n",
            " [9 9 9 9]]\n"
          ]
        }
      ]
    },
    {
      "cell_type": "code",
      "metadata": {
        "id": "6d4RW8NamoHr"
      },
      "source": [],
      "execution_count": null,
      "outputs": []
    }
  ]
}